{
 "cells": [
  {
   "cell_type": "code",
   "execution_count": 1,
   "metadata": {},
   "outputs": [
    {
     "name": "stderr",
     "output_type": "stream",
     "text": [
      "Using TensorFlow backend.\n"
     ]
    },
    {
     "name": "stdout",
     "output_type": "stream",
     "text": [
      "Couldn't import dot_parser, loading of dot files will not be possible.\n"
     ]
    }
   ],
   "source": [
    "# Importing the libraries\n",
    "import numpy as np\n",
    "import matplotlib.pyplot as plt\n",
    "from keras.datasets import mnist\n",
    "# Setting seed for reproducibility\n",
    "np.random.seed(1)"
   ]
  },
  {
   "cell_type": "code",
   "execution_count": 2,
   "metadata": {},
   "outputs": [],
   "source": [
    "# Loading the Data\n",
    "(x_train, y_train), (x_test, y_test) = mnist.load_data()"
   ]
  },
  {
   "cell_type": "code",
   "execution_count": 6,
   "metadata": {},
   "outputs": [
    {
     "name": "stdout",
     "output_type": "stream",
     "text": [
      "(60000, 784)\n",
      "(60000, 10)\n"
     ]
    }
   ],
   "source": [
    "# flatten the train images\n",
    "x_train_flatten = x_train.reshape(x_train.shape[0], -1)\n",
    "\n",
    "#flatten the test images\n",
    "x_test_flatten = x_test.reshape(x_test.shape[0], -1)\n",
    "\n",
    "# perform one hot encoding for train labels\n",
    "y_train_labels = np.zeros([y_train.shape[0], 10])\n",
    "y_train_labels[np.arange(y_train.shape[0]), y_train] = 1\n",
    "\n",
    "# perform one hot encoding for test labels \n",
    "y_test_labels = np.zeros([y_test.shape[0], 10])\n",
    "y_test_labels[np.arange(y_test.shape[0]), y_test] = 1\n",
    "\n",
    "# define hyperparameters\n",
    "num_of_neurons_input = 784\n",
    "num_of_neurons_hidden = 75\n",
    "num_of_neurons_output = 10\n",
    "\n",
    "print (x_train_flatten.shape)\n",
    "print (y_train_labels.shape)"
   ]
  },
  {
   "cell_type": "code",
   "execution_count": 7,
   "metadata": {},
   "outputs": [
    {
     "name": "stdout",
     "output_type": "stream",
     "text": [
      "epoch no 1: Accuracy: 0.33145 \n",
      "epoch no 6: Accuracy: 0.6765666666666666 \n",
      "epoch no 11: Accuracy: 0.7536166666666667 \n",
      "epoch no 16: Accuracy: 0.7826666666666666 \n",
      "epoch no 21: Accuracy: 0.7985833333333333 \n",
      "epoch no 26: Accuracy: 0.8190166666666666 \n",
      "epoch no 31: Accuracy: 0.8290833333333333 \n",
      "epoch no 36: Accuracy: 0.8388833333333333 \n",
      "epoch no 41: Accuracy: 0.84565 \n",
      "epoch no 46: Accuracy: 0.8534 \n",
      "epoch no 51: Accuracy: 0.8564666666666667 \n",
      "epoch no 56: Accuracy: 0.8654333333333334 \n",
      "epoch no 61: Accuracy: 0.86615 \n",
      "epoch no 66: Accuracy: 0.8699833333333333 \n",
      "epoch no 71: Accuracy: 0.86895 \n",
      "epoch no 76: Accuracy: 0.8715 \n",
      "epoch no 81: Accuracy: 0.8769166666666667 \n",
      "epoch no 86: Accuracy: 0.881 \n",
      "epoch no 91: Accuracy: 0.8835166666666666 \n",
      "epoch no 96: Accuracy: 0.8837166666666667 \n",
      "epoch no 101: Accuracy: 0.8836333333333334 \n",
      "epoch no 106: Accuracy: 0.889 \n",
      "epoch no 111: Accuracy: 0.8879333333333334 \n",
      "epoch no 116: Accuracy: 0.89125 \n",
      "epoch no 121: Accuracy: 0.8875333333333333 \n",
      "epoch no 126: Accuracy: 0.8919333333333334 \n",
      "epoch no 131: Accuracy: 0.8940833333333333 \n",
      "epoch no 136: Accuracy: 0.8908 \n",
      "epoch no 141: Accuracy: 0.89405 \n",
      "epoch no 146: Accuracy: 0.8945666666666666 \n",
      "epoch no 151: Accuracy: 0.89705 \n",
      "epoch no 156: Accuracy: 0.8968 \n",
      "epoch no 161: Accuracy: 0.8967833333333334 \n",
      "epoch no 166: Accuracy: 0.9008666666666667 \n",
      "epoch no 171: Accuracy: 0.8988 \n",
      "epoch no 176: Accuracy: 0.9019666666666667 \n",
      "epoch no 181: Accuracy: 0.90065 \n",
      "epoch no 186: Accuracy: 0.89885 \n",
      "epoch no 191: Accuracy: 0.9035 \n",
      "epoch no 196: Accuracy: 0.9034666666666666 \n",
      "epoch no 201: Accuracy: 0.8988666666666667 \n",
      "epoch no 206: Accuracy: 0.9031333333333333 \n",
      "epoch no 211: Accuracy: 0.9058 \n",
      "epoch no 216: Accuracy: 0.9050333333333334 \n",
      "epoch no 221: Accuracy: 0.9041833333333333 \n",
      "epoch no 226: Accuracy: 0.90255 \n",
      "epoch no 231: Accuracy: 0.9060666666666667 \n",
      "epoch no 236: Accuracy: 0.9091666666666667 \n",
      "epoch no 241: Accuracy: 0.9111333333333334 \n",
      "epoch no 246: Accuracy: 0.90825 \n",
      "epoch no 251: Accuracy: 0.90925 \n",
      "epoch no 256: Accuracy: 0.9075666666666666 \n",
      "epoch no 261: Accuracy: 0.9098 \n",
      "epoch no 266: Accuracy: 0.9106 \n",
      "epoch no 271: Accuracy: 0.9102166666666667 \n",
      "epoch no 276: Accuracy: 0.90815 \n",
      "epoch no 281: Accuracy: 0.9094 \n",
      "epoch no 286: Accuracy: 0.9164666666666667 \n",
      "epoch no 291: Accuracy: 0.9105333333333333 \n",
      "epoch no 296: Accuracy: 0.9114333333333333 \n",
      "epoch no 301: Accuracy: 0.91175 \n",
      "epoch no 306: Accuracy: 0.91135 \n",
      "epoch no 311: Accuracy: 0.9158333333333334 \n",
      "epoch no 316: Accuracy: 0.91225 \n",
      "epoch no 321: Accuracy: 0.9156166666666666 \n",
      "epoch no 326: Accuracy: 0.9167 \n",
      "epoch no 331: Accuracy: 0.9134833333333333 \n",
      "epoch no 336: Accuracy: 0.9129666666666667 \n",
      "epoch no 341: Accuracy: 0.9161 \n",
      "epoch no 346: Accuracy: 0.9106166666666666 \n",
      "test accuracy is 0.9104\n"
     ]
    }
   ],
   "source": [
    "# Creating a class for Neural Network Architecture\n",
    "class NeuralNetwork:\n",
    "    def __init__(self, input_size, no_hidden_neurons, output_size):\n",
    "        '''\n",
    "        creates a neural network with the given architecture and\n",
    "        initializes the weight matrix with normally distributed values\n",
    "        and bias to 0\n",
    "        '''\n",
    "        self.w1 = np.random.randn(input_size, no_hidden_neurons)\n",
    "        self.w2 = np.random.randn(no_hidden_neurons, output_size)\n",
    "        self.b1 = np.zeros([1, no_hidden_neurons])\n",
    "        self.b2 = np.zeros([1, output_size])\n",
    "        self.learning_rate = 0.002\n",
    "        \n",
    "    def sigmoid_activation(self, x):\n",
    "        '''\n",
    "        Sigmoid Function\n",
    "        '''\n",
    "        return 1/(1+np.exp(-x))\n",
    "    \n",
    "    def sigmoid_prime(self, x):\n",
    "        '''\n",
    "        Sigmoid Function Derivative\n",
    "        '''\n",
    "        return x*(1-x)\n",
    "    \n",
    "    def softmax_activation(self,x):\n",
    "        '''\n",
    "        Softmax Function\n",
    "        '''\n",
    "        expX = np.exp(x)\n",
    "        return expX/expX.sum(axis=1, keepdims=True)\n",
    "\n",
    "    def softmax_prime(self,x):\n",
    "        '''\n",
    "        Softmax Function Derivative\n",
    "        '''\n",
    "        return x*(1-x)\n",
    "    \n",
    "    def forward(self, x):\n",
    "        '''\n",
    "        Feed forward step of neural network\n",
    "        '''\n",
    "        z1 = np.dot(x, self.w1) + self.b1\n",
    "        self.a1 = self.sigmoid_activation(z1)\n",
    "        z2 = np.dot(self.a1, self.w2) + self.b2\n",
    "        self.a2 = self.softmax_activation(z2)\n",
    "        return self.a2\n",
    "    \n",
    "    def backward(self, x, y_pred, y_actual):\n",
    "        '''\n",
    "        Backpropagation of Error\n",
    "        '''\n",
    "        output_error = y_actual - y_pred\n",
    "        output_delta = output_error * self.softmax_prime(y_pred)\n",
    "        \n",
    "        hidden_error = output_delta.dot(self.w2.T)\n",
    "        hidden_delta = hidden_error * self.sigmoid_prime(self.a1)\n",
    "        \n",
    "        self.w1 += self.learning_rate * x.T.dot(hidden_delta)\n",
    "        self.w2 += self.learning_rate * self.a1.T.dot(output_delta)\n",
    "        \n",
    "        self.b1 += self.learning_rate * np.sum(hidden_delta, axis=0)\n",
    "        self.b2 += self.learning_rate * np.sum(output_delta, axis=0)\n",
    "\n",
    "    def predict(self, x):\n",
    "        '''\n",
    "        Predicting Result for Test Dataset\n",
    "        '''\n",
    "        output_activation = self.forward(x)\n",
    "        output_labels = np.zeros_like(output_activation)\n",
    "        output_labels[np.arange(x.shape[0]), output_activation.argmax(1)] = 1\n",
    "        return output_labels\n",
    "    \n",
    "    def train (self, x, y):\n",
    "        '''\n",
    "        Training the neural network for train dataset\n",
    "        '''\n",
    "        o = self.forward(x)\n",
    "        self.backward(x, o, y)\n",
    "\n",
    "# Initializing object of NeuralNetwork Class\n",
    "nn = NeuralNetwork(num_of_neurons_input, num_of_neurons_hidden, num_of_neurons_output)\n",
    "accuracy_per_epoch = []\n",
    "\n",
    "# Training for epochs on a batch size of 20\n",
    "for epoch in range(350):\n",
    "    for i in range(0,60000,20):\n",
    "        x = x_train_flatten[i:i+20, :]\n",
    "        y = y_train_labels[i:i+20, :]   \n",
    "        nn.train(x,y)\n",
    "    pred_labels = np.argmax(nn.predict(x_train_flatten), axis=1)\n",
    "    y_labels = np.argmax(y_train_labels, axis=1)\n",
    "    accuracy = np.sum([1 for i in range(60000) if pred_labels[i] == y_labels[i]])/60000.\n",
    "    if epoch%5==0:\n",
    "        print (\"epoch no {0}: Accuracy: {1} \".format(epoch+1, accuracy))\n",
    "    accuracy_per_epoch.append(accuracy)\n",
    "    \n",
    "pred_labels = np.argmax(nn.predict(x_test_flatten), axis=1)\n",
    "y_labels = np.argmax(y_test_labels, axis=1)\n",
    "\n",
    "test_accuracy = np.sum([1 for i in range(10000) if pred_labels[i] == y_labels[i]])/10000.\n",
    "print (\"test accuracy is {0}\".format(test_accuracy))"
   ]
  },
  {
   "cell_type": "code",
   "execution_count": 8,
   "metadata": {},
   "outputs": [
    {
     "data": {
      "text/plain": [
       "Text(0.5, 1.0, 'accuracy vs no of epochs')"
      ]
     },
     "execution_count": 8,
     "metadata": {},
     "output_type": "execute_result"
    },
    {
     "data": {
      "image/png": "[encoded data removed]",
      "text/plain": [
       "<Figure size 432x288 with 1 Axes>"
      ]
     },
     "metadata": {},
     "output_type": "display_data"
    }
   ],
   "source": [
    "# Plotting a graph of accuracy and epochs\n",
    "plt.plot(np.arange(0,350,1),accuracy_per_epoch)\n",
    "plt.xlabel('no of epochs')\n",
    "plt.xlabel('accuracy')\n",
    "plt.title('accuracy vs no of epochs')"
   ]
  },
  {
   "cell_type": "markdown",
   "metadata": {},
   "source": [
    "## References -\n",
    "\n",
    "https://machinelearningmastery.com/implement-backpropagation-algorithm-scratch-python/\n",
    "\n",
    "http://neuralnetworksanddeeplearning.com/chap2.html#proof_of_the_four_fundamental_equations_(optional)\n",
    "\n",
    "https://dev.to/shamdasani/build-a-flexible-neural-network-with-backpropagation-in-python\n",
    "\n",
    "https://www.python-course.eu/neural_networks_with_python_numpy.php\n",
    "\n",
    "## Submitted By - \n",
    "\n",
    "Deepansh Pandey\n",
    "\n",
    "Swaroop Bhandary"
   ]
  }
 ],
 "metadata": {
  "kernelspec": {
   "display_name": "Python 3",
   "language": "python",
   "name": "python3"
  },
  "language_info": {
   "codemirror_mode": {
    "name": "ipython",
    "version": 3
   },
   "file_extension": ".py",
   "mimetype": "text/x-python",
   "name": "python",
   "nbconvert_exporter": "python",
   "pygments_lexer": "ipython3",
   "version": "3.7.4"
  }
 },
 "nbformat": 4,
 "nbformat_minor": 2
}
